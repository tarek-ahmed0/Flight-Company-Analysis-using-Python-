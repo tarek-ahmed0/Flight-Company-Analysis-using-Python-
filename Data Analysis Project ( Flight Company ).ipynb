{
 "cells": [
  {
   "cell_type": "markdown",
   "id": "500a6d09",
   "metadata": {},
   "source": [
    "## Flight Company\n",
    "## - - - - - - - - - - - - -"
   ]
  },
  {
   "cell_type": "markdown",
   "id": "97b6f4eb",
   "metadata": {},
   "source": [
    "### Import Libraries"
   ]
  },
  {
   "cell_type": "code",
   "execution_count": 1,
   "id": "0c8a87de",
   "metadata": {},
   "outputs": [],
   "source": [
    "import numpy as np\n",
    "import pandas as pd\n",
    "import matplotlib as mpl\n",
    "import matplotlib.pyplot as plt\n",
    "import seaborn as sns\n",
    "from matplotlib.pyplot import figure"
   ]
  },
  {
   "cell_type": "markdown",
   "id": "6acddd9d",
   "metadata": {},
   "source": [
    "### Data Ingestion"
   ]
  },
  {
   "cell_type": "code",
   "execution_count": 2,
   "id": "ce64d266",
   "metadata": {},
   "outputs": [],
   "source": [
    "data = pd.read_csv(r\"D:\\Data Analysis With Python Projects\\Flight\\Files\\flights.csv\", parse_dates = [\"date\"])"
   ]
  },
  {
   "cell_type": "markdown",
   "id": "8a63e3c5",
   "metadata": {},
   "source": [
    "### Data Overview "
   ]
  },
  {
   "cell_type": "code",
   "execution_count": 3,
   "id": "939044ad",
   "metadata": {},
   "outputs": [
    {
     "data": {
      "text/html": [
       "<div>\n",
       "<style scoped>\n",
       "    .dataframe tbody tr th:only-of-type {\n",
       "        vertical-align: middle;\n",
       "    }\n",
       "\n",
       "    .dataframe tbody tr th {\n",
       "        vertical-align: top;\n",
       "    }\n",
       "\n",
       "    .dataframe thead th {\n",
       "        text-align: right;\n",
       "    }\n",
       "</style>\n",
       "<table border=\"1\" class=\"dataframe\">\n",
       "  <thead>\n",
       "    <tr style=\"text-align: right;\">\n",
       "      <th></th>\n",
       "      <th>travelCode</th>\n",
       "      <th>userCode</th>\n",
       "      <th>from</th>\n",
       "      <th>to</th>\n",
       "      <th>flightType</th>\n",
       "      <th>price</th>\n",
       "      <th>time</th>\n",
       "      <th>distance</th>\n",
       "      <th>agency</th>\n",
       "      <th>date</th>\n",
       "    </tr>\n",
       "  </thead>\n",
       "  <tbody>\n",
       "    <tr>\n",
       "      <th>0</th>\n",
       "      <td>0</td>\n",
       "      <td>0</td>\n",
       "      <td>Recife (PE)</td>\n",
       "      <td>Florianopolis (SC)</td>\n",
       "      <td>firstClass</td>\n",
       "      <td>1434.38</td>\n",
       "      <td>1.76</td>\n",
       "      <td>676.53</td>\n",
       "      <td>FlyingDrops</td>\n",
       "      <td>2019-09-26</td>\n",
       "    </tr>\n",
       "    <tr>\n",
       "      <th>1</th>\n",
       "      <td>0</td>\n",
       "      <td>0</td>\n",
       "      <td>Florianopolis (SC)</td>\n",
       "      <td>Recife (PE)</td>\n",
       "      <td>firstClass</td>\n",
       "      <td>1292.29</td>\n",
       "      <td>1.76</td>\n",
       "      <td>676.53</td>\n",
       "      <td>FlyingDrops</td>\n",
       "      <td>2019-09-30</td>\n",
       "    </tr>\n",
       "    <tr>\n",
       "      <th>2</th>\n",
       "      <td>1</td>\n",
       "      <td>0</td>\n",
       "      <td>Brasilia (DF)</td>\n",
       "      <td>Florianopolis (SC)</td>\n",
       "      <td>firstClass</td>\n",
       "      <td>1487.52</td>\n",
       "      <td>1.66</td>\n",
       "      <td>637.56</td>\n",
       "      <td>CloudFy</td>\n",
       "      <td>2019-10-03</td>\n",
       "    </tr>\n",
       "    <tr>\n",
       "      <th>3</th>\n",
       "      <td>1</td>\n",
       "      <td>0</td>\n",
       "      <td>Florianopolis (SC)</td>\n",
       "      <td>Brasilia (DF)</td>\n",
       "      <td>firstClass</td>\n",
       "      <td>1127.36</td>\n",
       "      <td>1.66</td>\n",
       "      <td>637.56</td>\n",
       "      <td>CloudFy</td>\n",
       "      <td>2019-10-04</td>\n",
       "    </tr>\n",
       "    <tr>\n",
       "      <th>4</th>\n",
       "      <td>2</td>\n",
       "      <td>0</td>\n",
       "      <td>Aracaju (SE)</td>\n",
       "      <td>Salvador (BH)</td>\n",
       "      <td>firstClass</td>\n",
       "      <td>1684.05</td>\n",
       "      <td>2.16</td>\n",
       "      <td>830.86</td>\n",
       "      <td>CloudFy</td>\n",
       "      <td>2019-10-10</td>\n",
       "    </tr>\n",
       "  </tbody>\n",
       "</table>\n",
       "</div>"
      ],
      "text/plain": [
       "   travelCode  userCode                from                  to  flightType  \\\n",
       "0           0         0         Recife (PE)  Florianopolis (SC)  firstClass   \n",
       "1           0         0  Florianopolis (SC)         Recife (PE)  firstClass   \n",
       "2           1         0       Brasilia (DF)  Florianopolis (SC)  firstClass   \n",
       "3           1         0  Florianopolis (SC)       Brasilia (DF)  firstClass   \n",
       "4           2         0        Aracaju (SE)       Salvador (BH)  firstClass   \n",
       "\n",
       "     price  time  distance       agency       date  \n",
       "0  1434.38  1.76    676.53  FlyingDrops 2019-09-26  \n",
       "1  1292.29  1.76    676.53  FlyingDrops 2019-09-30  \n",
       "2  1487.52  1.66    637.56      CloudFy 2019-10-03  \n",
       "3  1127.36  1.66    637.56      CloudFy 2019-10-04  \n",
       "4  1684.05  2.16    830.86      CloudFy 2019-10-10  "
      ]
     },
     "execution_count": 3,
     "metadata": {},
     "output_type": "execute_result"
    }
   ],
   "source": [
    "data.head()"
   ]
  },
  {
   "cell_type": "code",
   "execution_count": 4,
   "id": "0097ff77",
   "metadata": {},
   "outputs": [
    {
     "data": {
      "text/html": [
       "<div>\n",
       "<style scoped>\n",
       "    .dataframe tbody tr th:only-of-type {\n",
       "        vertical-align: middle;\n",
       "    }\n",
       "\n",
       "    .dataframe tbody tr th {\n",
       "        vertical-align: top;\n",
       "    }\n",
       "\n",
       "    .dataframe thead th {\n",
       "        text-align: right;\n",
       "    }\n",
       "</style>\n",
       "<table border=\"1\" class=\"dataframe\">\n",
       "  <thead>\n",
       "    <tr style=\"text-align: right;\">\n",
       "      <th></th>\n",
       "      <th>travelCode</th>\n",
       "      <th>userCode</th>\n",
       "      <th>from</th>\n",
       "      <th>to</th>\n",
       "      <th>flightType</th>\n",
       "      <th>price</th>\n",
       "      <th>time</th>\n",
       "      <th>distance</th>\n",
       "      <th>agency</th>\n",
       "      <th>date</th>\n",
       "    </tr>\n",
       "  </thead>\n",
       "  <tbody>\n",
       "    <tr>\n",
       "      <th>271883</th>\n",
       "      <td>135941</td>\n",
       "      <td>1339</td>\n",
       "      <td>Campo Grande (MS)</td>\n",
       "      <td>Florianopolis (SC)</td>\n",
       "      <td>firstClass</td>\n",
       "      <td>1446.34</td>\n",
       "      <td>1.49</td>\n",
       "      <td>573.81</td>\n",
       "      <td>CloudFy</td>\n",
       "      <td>2020-07-12</td>\n",
       "    </tr>\n",
       "    <tr>\n",
       "      <th>271884</th>\n",
       "      <td>135942</td>\n",
       "      <td>1339</td>\n",
       "      <td>Florianopolis (SC)</td>\n",
       "      <td>Natal (RN)</td>\n",
       "      <td>economic</td>\n",
       "      <td>726.95</td>\n",
       "      <td>1.84</td>\n",
       "      <td>709.37</td>\n",
       "      <td>CloudFy</td>\n",
       "      <td>2020-07-16</td>\n",
       "    </tr>\n",
       "    <tr>\n",
       "      <th>271885</th>\n",
       "      <td>135942</td>\n",
       "      <td>1339</td>\n",
       "      <td>Natal (RN)</td>\n",
       "      <td>Florianopolis (SC)</td>\n",
       "      <td>economic</td>\n",
       "      <td>873.07</td>\n",
       "      <td>1.84</td>\n",
       "      <td>709.37</td>\n",
       "      <td>CloudFy</td>\n",
       "      <td>2020-07-20</td>\n",
       "    </tr>\n",
       "    <tr>\n",
       "      <th>271886</th>\n",
       "      <td>135943</td>\n",
       "      <td>1339</td>\n",
       "      <td>Florianopolis (SC)</td>\n",
       "      <td>Rio de Janeiro (RJ)</td>\n",
       "      <td>economic</td>\n",
       "      <td>313.62</td>\n",
       "      <td>1.21</td>\n",
       "      <td>466.30</td>\n",
       "      <td>CloudFy</td>\n",
       "      <td>2020-07-23</td>\n",
       "    </tr>\n",
       "    <tr>\n",
       "      <th>271887</th>\n",
       "      <td>135943</td>\n",
       "      <td>1339</td>\n",
       "      <td>Rio de Janeiro (RJ)</td>\n",
       "      <td>Florianopolis (SC)</td>\n",
       "      <td>economic</td>\n",
       "      <td>533.69</td>\n",
       "      <td>1.21</td>\n",
       "      <td>466.30</td>\n",
       "      <td>CloudFy</td>\n",
       "      <td>2020-07-26</td>\n",
       "    </tr>\n",
       "  </tbody>\n",
       "</table>\n",
       "</div>"
      ],
      "text/plain": [
       "        travelCode  userCode                 from                   to  \\\n",
       "271883      135941      1339    Campo Grande (MS)   Florianopolis (SC)   \n",
       "271884      135942      1339   Florianopolis (SC)           Natal (RN)   \n",
       "271885      135942      1339           Natal (RN)   Florianopolis (SC)   \n",
       "271886      135943      1339   Florianopolis (SC)  Rio de Janeiro (RJ)   \n",
       "271887      135943      1339  Rio de Janeiro (RJ)   Florianopolis (SC)   \n",
       "\n",
       "        flightType    price  time  distance   agency       date  \n",
       "271883  firstClass  1446.34  1.49    573.81  CloudFy 2020-07-12  \n",
       "271884    economic   726.95  1.84    709.37  CloudFy 2020-07-16  \n",
       "271885    economic   873.07  1.84    709.37  CloudFy 2020-07-20  \n",
       "271886    economic   313.62  1.21    466.30  CloudFy 2020-07-23  \n",
       "271887    economic   533.69  1.21    466.30  CloudFy 2020-07-26  "
      ]
     },
     "execution_count": 4,
     "metadata": {},
     "output_type": "execute_result"
    }
   ],
   "source": [
    "data.tail()"
   ]
  },
  {
   "cell_type": "code",
   "execution_count": 5,
   "id": "85d8b3c8",
   "metadata": {},
   "outputs": [
    {
     "name": "stdout",
     "output_type": "stream",
     "text": [
      "<class 'pandas.core.frame.DataFrame'>\n",
      "RangeIndex: 271888 entries, 0 to 271887\n",
      "Data columns (total 10 columns):\n",
      " #   Column      Non-Null Count   Dtype         \n",
      "---  ------      --------------   -----         \n",
      " 0   travelCode  271888 non-null  int64         \n",
      " 1   userCode    271888 non-null  int64         \n",
      " 2   from        271888 non-null  object        \n",
      " 3   to          271888 non-null  object        \n",
      " 4   flightType  271888 non-null  object        \n",
      " 5   price       271888 non-null  float64       \n",
      " 6   time        271888 non-null  float64       \n",
      " 7   distance    271888 non-null  float64       \n",
      " 8   agency      271888 non-null  object        \n",
      " 9   date        271888 non-null  datetime64[ns]\n",
      "dtypes: datetime64[ns](1), float64(3), int64(2), object(4)\n",
      "memory usage: 20.7+ MB\n"
     ]
    }
   ],
   "source": [
    "data.info()"
   ]
  },
  {
   "cell_type": "code",
   "execution_count": 7,
   "id": "ecbed938",
   "metadata": {},
   "outputs": [
    {
     "data": {
      "text/plain": [
       "count    271888.0\n",
       "mean        957.0\n",
       "std         362.0\n",
       "min         302.0\n",
       "25%         673.0\n",
       "50%         904.0\n",
       "75%        1222.0\n",
       "max        1754.0\n",
       "Name: price, dtype: float64"
      ]
     },
     "execution_count": 7,
     "metadata": {},
     "output_type": "execute_result"
    }
   ],
   "source": [
    "round(data[\"price\"].describe())"
   ]
  },
  {
   "cell_type": "code",
   "execution_count": 8,
   "id": "38f7bdd3",
   "metadata": {},
   "outputs": [
    {
     "data": {
      "text/plain": [
       "count    271888.0\n",
       "mean        547.0\n",
       "std         209.0\n",
       "min         168.0\n",
       "25%         402.0\n",
       "50%         562.0\n",
       "75%         677.0\n",
       "max         938.0\n",
       "Name: distance, dtype: float64"
      ]
     },
     "execution_count": 8,
     "metadata": {},
     "output_type": "execute_result"
    }
   ],
   "source": [
    "round(data[\"distance\"].describe())"
   ]
  },
  {
   "cell_type": "markdown",
   "id": "e615ca01",
   "metadata": {},
   "source": [
    "### Data Cleaning"
   ]
  },
  {
   "cell_type": "code",
   "execution_count": 12,
   "id": "e459d779",
   "metadata": {},
   "outputs": [
    {
     "data": {
      "text/html": [
       "<div>\n",
       "<style scoped>\n",
       "    .dataframe tbody tr th:only-of-type {\n",
       "        vertical-align: middle;\n",
       "    }\n",
       "\n",
       "    .dataframe tbody tr th {\n",
       "        vertical-align: top;\n",
       "    }\n",
       "\n",
       "    .dataframe thead th {\n",
       "        text-align: right;\n",
       "    }\n",
       "</style>\n",
       "<table border=\"1\" class=\"dataframe\">\n",
       "  <thead>\n",
       "    <tr style=\"text-align: right;\">\n",
       "      <th></th>\n",
       "      <th>travelCode</th>\n",
       "      <th>userCode</th>\n",
       "      <th>from</th>\n",
       "      <th>to</th>\n",
       "      <th>flightType</th>\n",
       "      <th>price</th>\n",
       "      <th>time</th>\n",
       "      <th>distance</th>\n",
       "      <th>agency</th>\n",
       "      <th>date</th>\n",
       "    </tr>\n",
       "  </thead>\n",
       "  <tbody>\n",
       "    <tr>\n",
       "      <th>110482</th>\n",
       "      <td>55241</td>\n",
       "      <td>540</td>\n",
       "      <td>Campo Grande (MS)</td>\n",
       "      <td>Sao Paulo (SP)</td>\n",
       "      <td>economic</td>\n",
       "      <td>375.51</td>\n",
       "      <td>0.44</td>\n",
       "      <td>168.22</td>\n",
       "      <td>CloudFy</td>\n",
       "      <td>2019-09-26</td>\n",
       "    </tr>\n",
       "    <tr>\n",
       "      <th>117320</th>\n",
       "      <td>58660</td>\n",
       "      <td>572</td>\n",
       "      <td>Campo Grande (MS)</td>\n",
       "      <td>Sao Paulo (SP)</td>\n",
       "      <td>economic</td>\n",
       "      <td>375.51</td>\n",
       "      <td>0.44</td>\n",
       "      <td>168.22</td>\n",
       "      <td>CloudFy</td>\n",
       "      <td>2019-09-26</td>\n",
       "    </tr>\n",
       "    <tr>\n",
       "      <th>132774</th>\n",
       "      <td>66387</td>\n",
       "      <td>645</td>\n",
       "      <td>Campo Grande (MS)</td>\n",
       "      <td>Sao Paulo (SP)</td>\n",
       "      <td>economic</td>\n",
       "      <td>375.51</td>\n",
       "      <td>0.44</td>\n",
       "      <td>168.22</td>\n",
       "      <td>CloudFy</td>\n",
       "      <td>2019-09-26</td>\n",
       "    </tr>\n",
       "    <tr>\n",
       "      <th>105606</th>\n",
       "      <td>52803</td>\n",
       "      <td>512</td>\n",
       "      <td>Campo Grande (MS)</td>\n",
       "      <td>Sao Paulo (SP)</td>\n",
       "      <td>economic</td>\n",
       "      <td>381.83</td>\n",
       "      <td>0.44</td>\n",
       "      <td>168.22</td>\n",
       "      <td>Rainbow</td>\n",
       "      <td>2019-09-26</td>\n",
       "    </tr>\n",
       "    <tr>\n",
       "      <th>107510</th>\n",
       "      <td>53755</td>\n",
       "      <td>520</td>\n",
       "      <td>Campo Grande (MS)</td>\n",
       "      <td>Sao Paulo (SP)</td>\n",
       "      <td>economic</td>\n",
       "      <td>381.83</td>\n",
       "      <td>0.44</td>\n",
       "      <td>168.22</td>\n",
       "      <td>Rainbow</td>\n",
       "      <td>2019-09-26</td>\n",
       "    </tr>\n",
       "    <tr>\n",
       "      <th>...</th>\n",
       "      <td>...</td>\n",
       "      <td>...</td>\n",
       "      <td>...</td>\n",
       "      <td>...</td>\n",
       "      <td>...</td>\n",
       "      <td>...</td>\n",
       "      <td>...</td>\n",
       "      <td>...</td>\n",
       "      <td>...</td>\n",
       "      <td>...</td>\n",
       "    </tr>\n",
       "    <tr>\n",
       "      <th>86565</th>\n",
       "      <td>43282</td>\n",
       "      <td>422</td>\n",
       "      <td>Rio de Janeiro (RJ)</td>\n",
       "      <td>Aracaju (SE)</td>\n",
       "      <td>firstClass</td>\n",
       "      <td>1381.55</td>\n",
       "      <td>1.55</td>\n",
       "      <td>597.61</td>\n",
       "      <td>FlyingDrops</td>\n",
       "      <td>2023-07-21</td>\n",
       "    </tr>\n",
       "    <tr>\n",
       "      <th>219941</th>\n",
       "      <td>109970</td>\n",
       "      <td>1089</td>\n",
       "      <td>Salvador (BH)</td>\n",
       "      <td>Florianopolis (SC)</td>\n",
       "      <td>firstClass</td>\n",
       "      <td>1654.09</td>\n",
       "      <td>2.44</td>\n",
       "      <td>937.77</td>\n",
       "      <td>Rainbow</td>\n",
       "      <td>2023-07-21</td>\n",
       "    </tr>\n",
       "    <tr>\n",
       "      <th>187725</th>\n",
       "      <td>93862</td>\n",
       "      <td>925</td>\n",
       "      <td>Salvador (BH)</td>\n",
       "      <td>Florianopolis (SC)</td>\n",
       "      <td>firstClass</td>\n",
       "      <td>1616.44</td>\n",
       "      <td>2.44</td>\n",
       "      <td>937.77</td>\n",
       "      <td>FlyingDrops</td>\n",
       "      <td>2023-07-23</td>\n",
       "    </tr>\n",
       "    <tr>\n",
       "      <th>80831</th>\n",
       "      <td>40415</td>\n",
       "      <td>389</td>\n",
       "      <td>Campo Grande (MS)</td>\n",
       "      <td>Brasilia (DF)</td>\n",
       "      <td>economic</td>\n",
       "      <td>517.82</td>\n",
       "      <td>0.72</td>\n",
       "      <td>277.70</td>\n",
       "      <td>Rainbow</td>\n",
       "      <td>2023-07-24</td>\n",
       "    </tr>\n",
       "    <tr>\n",
       "      <th>117319</th>\n",
       "      <td>58659</td>\n",
       "      <td>571</td>\n",
       "      <td>Recife (PE)</td>\n",
       "      <td>Campo Grande (MS)</td>\n",
       "      <td>premium</td>\n",
       "      <td>793.15</td>\n",
       "      <td>1.39</td>\n",
       "      <td>535.40</td>\n",
       "      <td>CloudFy</td>\n",
       "      <td>2023-07-24</td>\n",
       "    </tr>\n",
       "  </tbody>\n",
       "</table>\n",
       "<p>271888 rows × 10 columns</p>\n",
       "</div>"
      ],
      "text/plain": [
       "        travelCode  userCode                 from                  to  \\\n",
       "110482       55241       540    Campo Grande (MS)      Sao Paulo (SP)   \n",
       "117320       58660       572    Campo Grande (MS)      Sao Paulo (SP)   \n",
       "132774       66387       645    Campo Grande (MS)      Sao Paulo (SP)   \n",
       "105606       52803       512    Campo Grande (MS)      Sao Paulo (SP)   \n",
       "107510       53755       520    Campo Grande (MS)      Sao Paulo (SP)   \n",
       "...            ...       ...                  ...                 ...   \n",
       "86565        43282       422  Rio de Janeiro (RJ)        Aracaju (SE)   \n",
       "219941      109970      1089        Salvador (BH)  Florianopolis (SC)   \n",
       "187725       93862       925        Salvador (BH)  Florianopolis (SC)   \n",
       "80831        40415       389    Campo Grande (MS)       Brasilia (DF)   \n",
       "117319       58659       571          Recife (PE)   Campo Grande (MS)   \n",
       "\n",
       "        flightType    price  time  distance       agency       date  \n",
       "110482    economic   375.51  0.44    168.22      CloudFy 2019-09-26  \n",
       "117320    economic   375.51  0.44    168.22      CloudFy 2019-09-26  \n",
       "132774    economic   375.51  0.44    168.22      CloudFy 2019-09-26  \n",
       "105606    economic   381.83  0.44    168.22      Rainbow 2019-09-26  \n",
       "107510    economic   381.83  0.44    168.22      Rainbow 2019-09-26  \n",
       "...            ...      ...   ...       ...          ...        ...  \n",
       "86565   firstClass  1381.55  1.55    597.61  FlyingDrops 2023-07-21  \n",
       "219941  firstClass  1654.09  2.44    937.77      Rainbow 2023-07-21  \n",
       "187725  firstClass  1616.44  2.44    937.77  FlyingDrops 2023-07-23  \n",
       "80831     economic   517.82  0.72    277.70      Rainbow 2023-07-24  \n",
       "117319     premium   793.15  1.39    535.40      CloudFy 2023-07-24  \n",
       "\n",
       "[271888 rows x 10 columns]"
      ]
     },
     "execution_count": 12,
     "metadata": {},
     "output_type": "execute_result"
    }
   ],
   "source": [
    "data.sort_values(by = [\"date\", \"distance\", \"price\", \"time\"], ascending = [True, True, True, True])"
   ]
  },
  {
   "cell_type": "markdown",
   "id": "e20bb94c",
   "metadata": {},
   "source": [
    "## Data Exploration"
   ]
  },
  {
   "cell_type": "markdown",
   "id": "bf399b03",
   "metadata": {},
   "source": [
    "### Q / Number Of Flights Per Year"
   ]
  },
  {
   "cell_type": "markdown",
   "id": "bdb56115",
   "metadata": {},
   "source": [
    "####  Year | 2019 = 35826 Flight"
   ]
  },
  {
   "cell_type": "code",
   "execution_count": 13,
   "id": "cce7a994",
   "metadata": {},
   "outputs": [],
   "source": [
    "year_2019 = (data[\"date\"] >= \"2019/1/1\") & (data[\"date\"] <= \"2019/12/31\")"
   ]
  },
  {
   "cell_type": "code",
   "execution_count": 14,
   "id": "73257766",
   "metadata": {},
   "outputs": [],
   "source": [
    "df_2019 = data.loc[year_2019]"
   ]
  },
  {
   "cell_type": "code",
   "execution_count": 15,
   "id": "1f17b51f",
   "metadata": {},
   "outputs": [
    {
     "data": {
      "text/html": [
       "<div>\n",
       "<style scoped>\n",
       "    .dataframe tbody tr th:only-of-type {\n",
       "        vertical-align: middle;\n",
       "    }\n",
       "\n",
       "    .dataframe tbody tr th {\n",
       "        vertical-align: top;\n",
       "    }\n",
       "\n",
       "    .dataframe thead th {\n",
       "        text-align: right;\n",
       "    }\n",
       "</style>\n",
       "<table border=\"1\" class=\"dataframe\">\n",
       "  <thead>\n",
       "    <tr style=\"text-align: right;\">\n",
       "      <th></th>\n",
       "      <th>travelCode</th>\n",
       "      <th>userCode</th>\n",
       "      <th>from</th>\n",
       "      <th>to</th>\n",
       "      <th>flightType</th>\n",
       "      <th>price</th>\n",
       "      <th>time</th>\n",
       "      <th>distance</th>\n",
       "      <th>agency</th>\n",
       "      <th>date</th>\n",
       "    </tr>\n",
       "  </thead>\n",
       "  <tbody>\n",
       "    <tr>\n",
       "      <th>0</th>\n",
       "      <td>0</td>\n",
       "      <td>0</td>\n",
       "      <td>Recife (PE)</td>\n",
       "      <td>Florianopolis (SC)</td>\n",
       "      <td>firstClass</td>\n",
       "      <td>1434.38</td>\n",
       "      <td>1.76</td>\n",
       "      <td>676.53</td>\n",
       "      <td>FlyingDrops</td>\n",
       "      <td>2019-09-26</td>\n",
       "    </tr>\n",
       "    <tr>\n",
       "      <th>228550</th>\n",
       "      <td>114275</td>\n",
       "      <td>1138</td>\n",
       "      <td>Florianopolis (SC)</td>\n",
       "      <td>Brasilia (DF)</td>\n",
       "      <td>firstClass</td>\n",
       "      <td>1097.17</td>\n",
       "      <td>1.66</td>\n",
       "      <td>637.56</td>\n",
       "      <td>FlyingDrops</td>\n",
       "      <td>2019-09-26</td>\n",
       "    </tr>\n",
       "    <tr>\n",
       "      <th>61482</th>\n",
       "      <td>30741</td>\n",
       "      <td>293</td>\n",
       "      <td>Recife (PE)</td>\n",
       "      <td>Sao Paulo (SP)</td>\n",
       "      <td>economic</td>\n",
       "      <td>545.95</td>\n",
       "      <td>1.26</td>\n",
       "      <td>486.52</td>\n",
       "      <td>Rainbow</td>\n",
       "      <td>2019-09-26</td>\n",
       "    </tr>\n",
       "    <tr>\n",
       "      <th>228466</th>\n",
       "      <td>114233</td>\n",
       "      <td>1137</td>\n",
       "      <td>Florianopolis (SC)</td>\n",
       "      <td>Brasilia (DF)</td>\n",
       "      <td>premium</td>\n",
       "      <td>885.37</td>\n",
       "      <td>1.66</td>\n",
       "      <td>637.56</td>\n",
       "      <td>CloudFy</td>\n",
       "      <td>2019-09-26</td>\n",
       "    </tr>\n",
       "    <tr>\n",
       "      <th>61636</th>\n",
       "      <td>30818</td>\n",
       "      <td>294</td>\n",
       "      <td>Aracaju (SE)</td>\n",
       "      <td>Sao Paulo (SP)</td>\n",
       "      <td>economic</td>\n",
       "      <td>446.73</td>\n",
       "      <td>1.02</td>\n",
       "      <td>392.76</td>\n",
       "      <td>Rainbow</td>\n",
       "      <td>2019-09-26</td>\n",
       "    </tr>\n",
       "    <tr>\n",
       "      <th>...</th>\n",
       "      <td>...</td>\n",
       "      <td>...</td>\n",
       "      <td>...</td>\n",
       "      <td>...</td>\n",
       "      <td>...</td>\n",
       "      <td>...</td>\n",
       "      <td>...</td>\n",
       "      <td>...</td>\n",
       "      <td>...</td>\n",
       "      <td>...</td>\n",
       "    </tr>\n",
       "    <tr>\n",
       "      <th>110109</th>\n",
       "      <td>55054</td>\n",
       "      <td>538</td>\n",
       "      <td>Brasilia (DF)</td>\n",
       "      <td>Campo Grande (MS)</td>\n",
       "      <td>firstClass</td>\n",
       "      <td>1096.58</td>\n",
       "      <td>0.72</td>\n",
       "      <td>277.70</td>\n",
       "      <td>CloudFy</td>\n",
       "      <td>2019-12-30</td>\n",
       "    </tr>\n",
       "    <tr>\n",
       "      <th>43859</th>\n",
       "      <td>21929</td>\n",
       "      <td>214</td>\n",
       "      <td>Campo Grande (MS)</td>\n",
       "      <td>Aracaju (SE)</td>\n",
       "      <td>economic</td>\n",
       "      <td>886.90</td>\n",
       "      <td>1.69</td>\n",
       "      <td>650.10</td>\n",
       "      <td>CloudFy</td>\n",
       "      <td>2019-12-30</td>\n",
       "    </tr>\n",
       "    <tr>\n",
       "      <th>109709</th>\n",
       "      <td>54854</td>\n",
       "      <td>535</td>\n",
       "      <td>Salvador (BH)</td>\n",
       "      <td>Campo Grande (MS)</td>\n",
       "      <td>firstClass</td>\n",
       "      <td>980.40</td>\n",
       "      <td>1.36</td>\n",
       "      <td>522.34</td>\n",
       "      <td>FlyingDrops</td>\n",
       "      <td>2019-12-30</td>\n",
       "    </tr>\n",
       "    <tr>\n",
       "      <th>240049</th>\n",
       "      <td>120024</td>\n",
       "      <td>1191</td>\n",
       "      <td>Rio de Janeiro (RJ)</td>\n",
       "      <td>Florianopolis (SC)</td>\n",
       "      <td>economic</td>\n",
       "      <td>533.69</td>\n",
       "      <td>1.21</td>\n",
       "      <td>466.30</td>\n",
       "      <td>CloudFy</td>\n",
       "      <td>2019-12-30</td>\n",
       "    </tr>\n",
       "    <tr>\n",
       "      <th>13805</th>\n",
       "      <td>6902</td>\n",
       "      <td>67</td>\n",
       "      <td>Salvador (BH)</td>\n",
       "      <td>Aracaju (SE)</td>\n",
       "      <td>economic</td>\n",
       "      <td>811.73</td>\n",
       "      <td>2.16</td>\n",
       "      <td>830.86</td>\n",
       "      <td>CloudFy</td>\n",
       "      <td>2019-12-30</td>\n",
       "    </tr>\n",
       "  </tbody>\n",
       "</table>\n",
       "<p>35826 rows × 10 columns</p>\n",
       "</div>"
      ],
      "text/plain": [
       "        travelCode  userCode                 from                  to  \\\n",
       "0                0         0          Recife (PE)  Florianopolis (SC)   \n",
       "228550      114275      1138   Florianopolis (SC)       Brasilia (DF)   \n",
       "61482        30741       293          Recife (PE)      Sao Paulo (SP)   \n",
       "228466      114233      1137   Florianopolis (SC)       Brasilia (DF)   \n",
       "61636        30818       294         Aracaju (SE)      Sao Paulo (SP)   \n",
       "...            ...       ...                  ...                 ...   \n",
       "110109       55054       538        Brasilia (DF)   Campo Grande (MS)   \n",
       "43859        21929       214    Campo Grande (MS)        Aracaju (SE)   \n",
       "109709       54854       535        Salvador (BH)   Campo Grande (MS)   \n",
       "240049      120024      1191  Rio de Janeiro (RJ)  Florianopolis (SC)   \n",
       "13805         6902        67        Salvador (BH)        Aracaju (SE)   \n",
       "\n",
       "        flightType    price  time  distance       agency       date  \n",
       "0       firstClass  1434.38  1.76    676.53  FlyingDrops 2019-09-26  \n",
       "228550  firstClass  1097.17  1.66    637.56  FlyingDrops 2019-09-26  \n",
       "61482     economic   545.95  1.26    486.52      Rainbow 2019-09-26  \n",
       "228466     premium   885.37  1.66    637.56      CloudFy 2019-09-26  \n",
       "61636     economic   446.73  1.02    392.76      Rainbow 2019-09-26  \n",
       "...            ...      ...   ...       ...          ...        ...  \n",
       "110109  firstClass  1096.58  0.72    277.70      CloudFy 2019-12-30  \n",
       "43859     economic   886.90  1.69    650.10      CloudFy 2019-12-30  \n",
       "109709  firstClass   980.40  1.36    522.34  FlyingDrops 2019-12-30  \n",
       "240049    economic   533.69  1.21    466.30      CloudFy 2019-12-30  \n",
       "13805     economic   811.73  2.16    830.86      CloudFy 2019-12-30  \n",
       "\n",
       "[35826 rows x 10 columns]"
      ]
     },
     "execution_count": 15,
     "metadata": {},
     "output_type": "execute_result"
    }
   ],
   "source": [
    "df_2019.sort_values(by = \"date\", ascending = True)"
   ]
  },
  {
   "cell_type": "code",
   "execution_count": 20,
   "id": "e8659da5",
   "metadata": {},
   "outputs": [
    {
     "data": {
      "text/plain": [
       "35826"
      ]
     },
     "execution_count": 20,
     "metadata": {},
     "output_type": "execute_result"
    }
   ],
   "source": [
    "df_2019[\"date\"].count()"
   ]
  },
  {
   "cell_type": "markdown",
   "id": "b9e235fc",
   "metadata": {},
   "source": [
    "####  Year | 2020 = 112571 Flight"
   ]
  },
  {
   "cell_type": "code",
   "execution_count": 21,
   "id": "de88f9b2",
   "metadata": {},
   "outputs": [],
   "source": [
    "year_2020 = (data[\"date\"] >= \"2020/1/1\") & (data[\"date\"] <= \"2020/12/31\")"
   ]
  },
  {
   "cell_type": "code",
   "execution_count": 22,
   "id": "2f4c362e",
   "metadata": {},
   "outputs": [],
   "source": [
    "df_2020 = data.loc[year_2020]"
   ]
  },
  {
   "cell_type": "code",
   "execution_count": 23,
   "id": "a87e67aa",
   "metadata": {},
   "outputs": [
    {
     "data": {
      "text/html": [
       "<div>\n",
       "<style scoped>\n",
       "    .dataframe tbody tr th:only-of-type {\n",
       "        vertical-align: middle;\n",
       "    }\n",
       "\n",
       "    .dataframe tbody tr th {\n",
       "        vertical-align: top;\n",
       "    }\n",
       "\n",
       "    .dataframe thead th {\n",
       "        text-align: right;\n",
       "    }\n",
       "</style>\n",
       "<table border=\"1\" class=\"dataframe\">\n",
       "  <thead>\n",
       "    <tr style=\"text-align: right;\">\n",
       "      <th></th>\n",
       "      <th>travelCode</th>\n",
       "      <th>userCode</th>\n",
       "      <th>from</th>\n",
       "      <th>to</th>\n",
       "      <th>flightType</th>\n",
       "      <th>price</th>\n",
       "      <th>time</th>\n",
       "      <th>distance</th>\n",
       "      <th>agency</th>\n",
       "      <th>date</th>\n",
       "    </tr>\n",
       "  </thead>\n",
       "  <tbody>\n",
       "    <tr>\n",
       "      <th>28</th>\n",
       "      <td>14</td>\n",
       "      <td>0</td>\n",
       "      <td>Brasilia (DF)</td>\n",
       "      <td>Sao Paulo (SP)</td>\n",
       "      <td>firstClass</td>\n",
       "      <td>893.65</td>\n",
       "      <td>0.67</td>\n",
       "      <td>257.81</td>\n",
       "      <td>CloudFy</td>\n",
       "      <td>2020-01-02</td>\n",
       "    </tr>\n",
       "    <tr>\n",
       "      <th>222762</th>\n",
       "      <td>111381</td>\n",
       "      <td>1104</td>\n",
       "      <td>Florianopolis (SC)</td>\n",
       "      <td>Brasilia (DF)</td>\n",
       "      <td>firstClass</td>\n",
       "      <td>1127.36</td>\n",
       "      <td>1.66</td>\n",
       "      <td>637.56</td>\n",
       "      <td>CloudFy</td>\n",
       "      <td>2020-01-02</td>\n",
       "    </tr>\n",
       "    <tr>\n",
       "      <th>45242</th>\n",
       "      <td>22621</td>\n",
       "      <td>221</td>\n",
       "      <td>Recife (PE)</td>\n",
       "      <td>Natal (RN)</td>\n",
       "      <td>premium</td>\n",
       "      <td>488.73</td>\n",
       "      <td>0.58</td>\n",
       "      <td>222.67</td>\n",
       "      <td>Rainbow</td>\n",
       "      <td>2020-01-02</td>\n",
       "    </tr>\n",
       "    <tr>\n",
       "      <th>45306</th>\n",
       "      <td>22653</td>\n",
       "      <td>222</td>\n",
       "      <td>Aracaju (SE)</td>\n",
       "      <td>Campo Grande (MS)</td>\n",
       "      <td>firstClass</td>\n",
       "      <td>1389.37</td>\n",
       "      <td>1.69</td>\n",
       "      <td>650.10</td>\n",
       "      <td>CloudFy</td>\n",
       "      <td>2020-01-02</td>\n",
       "    </tr>\n",
       "    <tr>\n",
       "      <th>222488</th>\n",
       "      <td>111244</td>\n",
       "      <td>1103</td>\n",
       "      <td>Florianopolis (SC)</td>\n",
       "      <td>Recife (PE)</td>\n",
       "      <td>economic</td>\n",
       "      <td>674.52</td>\n",
       "      <td>1.76</td>\n",
       "      <td>676.53</td>\n",
       "      <td>CloudFy</td>\n",
       "      <td>2020-01-02</td>\n",
       "    </tr>\n",
       "    <tr>\n",
       "      <th>...</th>\n",
       "      <td>...</td>\n",
       "      <td>...</td>\n",
       "      <td>...</td>\n",
       "      <td>...</td>\n",
       "      <td>...</td>\n",
       "      <td>...</td>\n",
       "      <td>...</td>\n",
       "      <td>...</td>\n",
       "      <td>...</td>\n",
       "      <td>...</td>\n",
       "    </tr>\n",
       "    <tr>\n",
       "      <th>211772</th>\n",
       "      <td>105886</td>\n",
       "      <td>1049</td>\n",
       "      <td>Florianopolis (SC)</td>\n",
       "      <td>Aracaju (SE)</td>\n",
       "      <td>firstClass</td>\n",
       "      <td>1582.10</td>\n",
       "      <td>2.10</td>\n",
       "      <td>808.85</td>\n",
       "      <td>Rainbow</td>\n",
       "      <td>2020-12-31</td>\n",
       "    </tr>\n",
       "    <tr>\n",
       "      <th>55038</th>\n",
       "      <td>27519</td>\n",
       "      <td>264</td>\n",
       "      <td>Aracaju (SE)</td>\n",
       "      <td>Sao Paulo (SP)</td>\n",
       "      <td>premium</td>\n",
       "      <td>588.14</td>\n",
       "      <td>1.02</td>\n",
       "      <td>392.76</td>\n",
       "      <td>Rainbow</td>\n",
       "      <td>2020-12-31</td>\n",
       "    </tr>\n",
       "    <tr>\n",
       "      <th>98582</th>\n",
       "      <td>49291</td>\n",
       "      <td>483</td>\n",
       "      <td>Campo Grande (MS)</td>\n",
       "      <td>Brasilia (DF)</td>\n",
       "      <td>firstClass</td>\n",
       "      <td>949.99</td>\n",
       "      <td>0.72</td>\n",
       "      <td>277.70</td>\n",
       "      <td>CloudFy</td>\n",
       "      <td>2020-12-31</td>\n",
       "    </tr>\n",
       "    <tr>\n",
       "      <th>132760</th>\n",
       "      <td>66380</td>\n",
       "      <td>643</td>\n",
       "      <td>Campo Grande (MS)</td>\n",
       "      <td>Rio de Janeiro (RJ)</td>\n",
       "      <td>premium</td>\n",
       "      <td>1363.27</td>\n",
       "      <td>2.09</td>\n",
       "      <td>806.48</td>\n",
       "      <td>CloudFy</td>\n",
       "      <td>2020-12-31</td>\n",
       "    </tr>\n",
       "    <tr>\n",
       "      <th>255542</th>\n",
       "      <td>127771</td>\n",
       "      <td>1260</td>\n",
       "      <td>Florianopolis (SC)</td>\n",
       "      <td>Aracaju (SE)</td>\n",
       "      <td>firstClass</td>\n",
       "      <td>1574.28</td>\n",
       "      <td>2.10</td>\n",
       "      <td>808.85</td>\n",
       "      <td>FlyingDrops</td>\n",
       "      <td>2020-12-31</td>\n",
       "    </tr>\n",
       "  </tbody>\n",
       "</table>\n",
       "<p>112571 rows × 10 columns</p>\n",
       "</div>"
      ],
      "text/plain": [
       "        travelCode  userCode                from                   to  \\\n",
       "28              14         0       Brasilia (DF)       Sao Paulo (SP)   \n",
       "222762      111381      1104  Florianopolis (SC)        Brasilia (DF)   \n",
       "45242        22621       221         Recife (PE)           Natal (RN)   \n",
       "45306        22653       222        Aracaju (SE)    Campo Grande (MS)   \n",
       "222488      111244      1103  Florianopolis (SC)          Recife (PE)   \n",
       "...            ...       ...                 ...                  ...   \n",
       "211772      105886      1049  Florianopolis (SC)         Aracaju (SE)   \n",
       "55038        27519       264        Aracaju (SE)       Sao Paulo (SP)   \n",
       "98582        49291       483   Campo Grande (MS)        Brasilia (DF)   \n",
       "132760       66380       643   Campo Grande (MS)  Rio de Janeiro (RJ)   \n",
       "255542      127771      1260  Florianopolis (SC)         Aracaju (SE)   \n",
       "\n",
       "        flightType    price  time  distance       agency       date  \n",
       "28      firstClass   893.65  0.67    257.81      CloudFy 2020-01-02  \n",
       "222762  firstClass  1127.36  1.66    637.56      CloudFy 2020-01-02  \n",
       "45242      premium   488.73  0.58    222.67      Rainbow 2020-01-02  \n",
       "45306   firstClass  1389.37  1.69    650.10      CloudFy 2020-01-02  \n",
       "222488    economic   674.52  1.76    676.53      CloudFy 2020-01-02  \n",
       "...            ...      ...   ...       ...          ...        ...  \n",
       "211772  firstClass  1582.10  2.10    808.85      Rainbow 2020-12-31  \n",
       "55038      premium   588.14  1.02    392.76      Rainbow 2020-12-31  \n",
       "98582   firstClass   949.99  0.72    277.70      CloudFy 2020-12-31  \n",
       "132760     premium  1363.27  2.09    806.48      CloudFy 2020-12-31  \n",
       "255542  firstClass  1574.28  2.10    808.85  FlyingDrops 2020-12-31  \n",
       "\n",
       "[112571 rows x 10 columns]"
      ]
     },
     "execution_count": 23,
     "metadata": {},
     "output_type": "execute_result"
    }
   ],
   "source": [
    "df_2020.sort_values(by = \"date\", ascending = True)"
   ]
  },
  {
   "cell_type": "code",
   "execution_count": 24,
   "id": "c13438d6",
   "metadata": {},
   "outputs": [
    {
     "data": {
      "text/plain": [
       "112571"
      ]
     },
     "execution_count": 24,
     "metadata": {},
     "output_type": "execute_result"
    }
   ],
   "source": [
    "df_2020[\"date\"].count()"
   ]
  },
  {
   "cell_type": "markdown",
   "id": "fbdc24e4",
   "metadata": {},
   "source": [
    "####  Year | 2021 = 75363 Flight"
   ]
  },
  {
   "cell_type": "code",
   "execution_count": 25,
   "id": "ccc2c0cb",
   "metadata": {},
   "outputs": [],
   "source": [
    "year_2021 = (data[\"date\"] >= \"2021/1/1\") & (data[\"date\"] <= \"2021/12/31\")"
   ]
  },
  {
   "cell_type": "code",
   "execution_count": 26,
   "id": "ce8ca3e9",
   "metadata": {},
   "outputs": [],
   "source": [
    "df_2021 = data.loc[year_2021]"
   ]
  },
  {
   "cell_type": "code",
   "execution_count": 27,
   "id": "89b6b080",
   "metadata": {},
   "outputs": [
    {
     "data": {
      "text/html": [
       "<div>\n",
       "<style scoped>\n",
       "    .dataframe tbody tr th:only-of-type {\n",
       "        vertical-align: middle;\n",
       "    }\n",
       "\n",
       "    .dataframe tbody tr th {\n",
       "        vertical-align: top;\n",
       "    }\n",
       "\n",
       "    .dataframe thead th {\n",
       "        text-align: right;\n",
       "    }\n",
       "</style>\n",
       "<table border=\"1\" class=\"dataframe\">\n",
       "  <thead>\n",
       "    <tr style=\"text-align: right;\">\n",
       "      <th></th>\n",
       "      <th>travelCode</th>\n",
       "      <th>userCode</th>\n",
       "      <th>from</th>\n",
       "      <th>to</th>\n",
       "      <th>flightType</th>\n",
       "      <th>price</th>\n",
       "      <th>time</th>\n",
       "      <th>distance</th>\n",
       "      <th>agency</th>\n",
       "      <th>date</th>\n",
       "    </tr>\n",
       "  </thead>\n",
       "  <tbody>\n",
       "    <tr>\n",
       "      <th>13171</th>\n",
       "      <td>6585</td>\n",
       "      <td>64</td>\n",
       "      <td>Florianopolis (SC)</td>\n",
       "      <td>Brasilia (DF)</td>\n",
       "      <td>economic</td>\n",
       "      <td>636.51</td>\n",
       "      <td>1.66</td>\n",
       "      <td>637.56</td>\n",
       "      <td>CloudFy</td>\n",
       "      <td>2021-01-01</td>\n",
       "    </tr>\n",
       "    <tr>\n",
       "      <th>125951</th>\n",
       "      <td>62975</td>\n",
       "      <td>613</td>\n",
       "      <td>Natal (RN)</td>\n",
       "      <td>Campo Grande (MS)</td>\n",
       "      <td>premium</td>\n",
       "      <td>748.52</td>\n",
       "      <td>0.65</td>\n",
       "      <td>250.68</td>\n",
       "      <td>CloudFy</td>\n",
       "      <td>2021-01-01</td>\n",
       "    </tr>\n",
       "    <tr>\n",
       "      <th>125289</th>\n",
       "      <td>62644</td>\n",
       "      <td>611</td>\n",
       "      <td>Sao Paulo (SP)</td>\n",
       "      <td>Campo Grande (MS)</td>\n",
       "      <td>economic</td>\n",
       "      <td>367.22</td>\n",
       "      <td>0.44</td>\n",
       "      <td>168.22</td>\n",
       "      <td>Rainbow</td>\n",
       "      <td>2021-01-01</td>\n",
       "    </tr>\n",
       "    <tr>\n",
       "      <th>123853</th>\n",
       "      <td>61926</td>\n",
       "      <td>604</td>\n",
       "      <td>Aracaju (SE)</td>\n",
       "      <td>Campo Grande (MS)</td>\n",
       "      <td>premium</td>\n",
       "      <td>1116.83</td>\n",
       "      <td>1.69</td>\n",
       "      <td>650.10</td>\n",
       "      <td>Rainbow</td>\n",
       "      <td>2021-01-01</td>\n",
       "    </tr>\n",
       "    <tr>\n",
       "      <th>246875</th>\n",
       "      <td>123437</td>\n",
       "      <td>1222</td>\n",
       "      <td>Aracaju (SE)</td>\n",
       "      <td>Florianopolis (SC)</td>\n",
       "      <td>firstClass</td>\n",
       "      <td>1582.41</td>\n",
       "      <td>2.10</td>\n",
       "      <td>808.85</td>\n",
       "      <td>Rainbow</td>\n",
       "      <td>2021-01-01</td>\n",
       "    </tr>\n",
       "    <tr>\n",
       "      <th>...</th>\n",
       "      <td>...</td>\n",
       "      <td>...</td>\n",
       "      <td>...</td>\n",
       "      <td>...</td>\n",
       "      <td>...</td>\n",
       "      <td>...</td>\n",
       "      <td>...</td>\n",
       "      <td>...</td>\n",
       "      <td>...</td>\n",
       "      <td>...</td>\n",
       "    </tr>\n",
       "    <tr>\n",
       "      <th>114507</th>\n",
       "      <td>57253</td>\n",
       "      <td>557</td>\n",
       "      <td>Rio de Janeiro (RJ)</td>\n",
       "      <td>Campo Grande (MS)</td>\n",
       "      <td>firstClass</td>\n",
       "      <td>1512.09</td>\n",
       "      <td>2.09</td>\n",
       "      <td>806.48</td>\n",
       "      <td>CloudFy</td>\n",
       "      <td>2021-12-31</td>\n",
       "    </tr>\n",
       "    <tr>\n",
       "      <th>39275</th>\n",
       "      <td>19637</td>\n",
       "      <td>191</td>\n",
       "      <td>Aracaju (SE)</td>\n",
       "      <td>Brasilia (DF)</td>\n",
       "      <td>firstClass</td>\n",
       "      <td>898.04</td>\n",
       "      <td>1.11</td>\n",
       "      <td>425.98</td>\n",
       "      <td>FlyingDrops</td>\n",
       "      <td>2021-12-31</td>\n",
       "    </tr>\n",
       "    <tr>\n",
       "      <th>151479</th>\n",
       "      <td>75739</td>\n",
       "      <td>737</td>\n",
       "      <td>Natal (RN)</td>\n",
       "      <td>Sao Paulo (SP)</td>\n",
       "      <td>premium</td>\n",
       "      <td>863.80</td>\n",
       "      <td>0.85</td>\n",
       "      <td>327.55</td>\n",
       "      <td>CloudFy</td>\n",
       "      <td>2021-12-31</td>\n",
       "    </tr>\n",
       "    <tr>\n",
       "      <th>16845</th>\n",
       "      <td>8422</td>\n",
       "      <td>82</td>\n",
       "      <td>Natal (RN)</td>\n",
       "      <td>Aracaju (SE)</td>\n",
       "      <td>firstClass</td>\n",
       "      <td>611.40</td>\n",
       "      <td>0.46</td>\n",
       "      <td>176.33</td>\n",
       "      <td>Rainbow</td>\n",
       "      <td>2021-12-31</td>\n",
       "    </tr>\n",
       "    <tr>\n",
       "      <th>254859</th>\n",
       "      <td>127429</td>\n",
       "      <td>1257</td>\n",
       "      <td>Rio de Janeiro (RJ)</td>\n",
       "      <td>Florianopolis (SC)</td>\n",
       "      <td>firstClass</td>\n",
       "      <td>941.27</td>\n",
       "      <td>1.21</td>\n",
       "      <td>466.30</td>\n",
       "      <td>Rainbow</td>\n",
       "      <td>2021-12-31</td>\n",
       "    </tr>\n",
       "  </tbody>\n",
       "</table>\n",
       "<p>75363 rows × 10 columns</p>\n",
       "</div>"
      ],
      "text/plain": [
       "        travelCode  userCode                 from                  to  \\\n",
       "13171         6585        64   Florianopolis (SC)       Brasilia (DF)   \n",
       "125951       62975       613           Natal (RN)   Campo Grande (MS)   \n",
       "125289       62644       611       Sao Paulo (SP)   Campo Grande (MS)   \n",
       "123853       61926       604         Aracaju (SE)   Campo Grande (MS)   \n",
       "246875      123437      1222         Aracaju (SE)  Florianopolis (SC)   \n",
       "...            ...       ...                  ...                 ...   \n",
       "114507       57253       557  Rio de Janeiro (RJ)   Campo Grande (MS)   \n",
       "39275        19637       191         Aracaju (SE)       Brasilia (DF)   \n",
       "151479       75739       737           Natal (RN)      Sao Paulo (SP)   \n",
       "16845         8422        82           Natal (RN)        Aracaju (SE)   \n",
       "254859      127429      1257  Rio de Janeiro (RJ)  Florianopolis (SC)   \n",
       "\n",
       "        flightType    price  time  distance       agency       date  \n",
       "13171     economic   636.51  1.66    637.56      CloudFy 2021-01-01  \n",
       "125951     premium   748.52  0.65    250.68      CloudFy 2021-01-01  \n",
       "125289    economic   367.22  0.44    168.22      Rainbow 2021-01-01  \n",
       "123853     premium  1116.83  1.69    650.10      Rainbow 2021-01-01  \n",
       "246875  firstClass  1582.41  2.10    808.85      Rainbow 2021-01-01  \n",
       "...            ...      ...   ...       ...          ...        ...  \n",
       "114507  firstClass  1512.09  2.09    806.48      CloudFy 2021-12-31  \n",
       "39275   firstClass   898.04  1.11    425.98  FlyingDrops 2021-12-31  \n",
       "151479     premium   863.80  0.85    327.55      CloudFy 2021-12-31  \n",
       "16845   firstClass   611.40  0.46    176.33      Rainbow 2021-12-31  \n",
       "254859  firstClass   941.27  1.21    466.30      Rainbow 2021-12-31  \n",
       "\n",
       "[75363 rows x 10 columns]"
      ]
     },
     "execution_count": 27,
     "metadata": {},
     "output_type": "execute_result"
    }
   ],
   "source": [
    "df_2021.sort_values(by = \"date\", ascending = True)"
   ]
  },
  {
   "cell_type": "code",
   "execution_count": 28,
   "id": "0e1a9ef2",
   "metadata": {},
   "outputs": [
    {
     "data": {
      "text/plain": [
       "75363"
      ]
     },
     "execution_count": 28,
     "metadata": {},
     "output_type": "execute_result"
    }
   ],
   "source": [
    "df_2021[\"date\"].count()"
   ]
  },
  {
   "cell_type": "markdown",
   "id": "391735fa",
   "metadata": {},
   "source": [
    "####  Year | 2022 = 41761 Flight"
   ]
  },
  {
   "cell_type": "code",
   "execution_count": 29,
   "id": "2d0ad55f",
   "metadata": {},
   "outputs": [],
   "source": [
    "year_2022 = (data[\"date\"] >= \"2022/1/1\") & (data[\"date\"] <= \"2022/12/31\")"
   ]
  },
  {
   "cell_type": "code",
   "execution_count": 30,
   "id": "73abbb53",
   "metadata": {},
   "outputs": [],
   "source": [
    "df_2022 = data.loc[year_2022]"
   ]
  },
  {
   "cell_type": "code",
   "execution_count": 31,
   "id": "b7d05ea2",
   "metadata": {},
   "outputs": [
    {
     "data": {
      "text/html": [
       "<div>\n",
       "<style scoped>\n",
       "    .dataframe tbody tr th:only-of-type {\n",
       "        vertical-align: middle;\n",
       "    }\n",
       "\n",
       "    .dataframe tbody tr th {\n",
       "        vertical-align: top;\n",
       "    }\n",
       "\n",
       "    .dataframe thead th {\n",
       "        text-align: right;\n",
       "    }\n",
       "</style>\n",
       "<table border=\"1\" class=\"dataframe\">\n",
       "  <thead>\n",
       "    <tr style=\"text-align: right;\">\n",
       "      <th></th>\n",
       "      <th>travelCode</th>\n",
       "      <th>userCode</th>\n",
       "      <th>from</th>\n",
       "      <th>to</th>\n",
       "      <th>flightType</th>\n",
       "      <th>price</th>\n",
       "      <th>time</th>\n",
       "      <th>distance</th>\n",
       "      <th>agency</th>\n",
       "      <th>date</th>\n",
       "    </tr>\n",
       "  </thead>\n",
       "  <tbody>\n",
       "    <tr>\n",
       "      <th>67401</th>\n",
       "      <td>33700</td>\n",
       "      <td>323</td>\n",
       "      <td>Salvador (BH)</td>\n",
       "      <td>Recife (PE)</td>\n",
       "      <td>firstClass</td>\n",
       "      <td>1348.04</td>\n",
       "      <td>2.05</td>\n",
       "      <td>788.55</td>\n",
       "      <td>FlyingDrops</td>\n",
       "      <td>2022-01-01</td>\n",
       "    </tr>\n",
       "    <tr>\n",
       "      <th>256037</th>\n",
       "      <td>128018</td>\n",
       "      <td>1261</td>\n",
       "      <td>Natal (RN)</td>\n",
       "      <td>Florianopolis (SC)</td>\n",
       "      <td>economic</td>\n",
       "      <td>884.40</td>\n",
       "      <td>1.84</td>\n",
       "      <td>709.37</td>\n",
       "      <td>Rainbow</td>\n",
       "      <td>2022-01-01</td>\n",
       "    </tr>\n",
       "    <tr>\n",
       "      <th>153665</th>\n",
       "      <td>76832</td>\n",
       "      <td>746</td>\n",
       "      <td>Recife (PE)</td>\n",
       "      <td>Aracaju (SE)</td>\n",
       "      <td>premium</td>\n",
       "      <td>932.22</td>\n",
       "      <td>1.44</td>\n",
       "      <td>555.74</td>\n",
       "      <td>Rainbow</td>\n",
       "      <td>2022-01-01</td>\n",
       "    </tr>\n",
       "    <tr>\n",
       "      <th>171383</th>\n",
       "      <td>85691</td>\n",
       "      <td>843</td>\n",
       "      <td>Recife (PE)</td>\n",
       "      <td>Aracaju (SE)</td>\n",
       "      <td>firstClass</td>\n",
       "      <td>1166.10</td>\n",
       "      <td>1.44</td>\n",
       "      <td>555.74</td>\n",
       "      <td>CloudFy</td>\n",
       "      <td>2022-01-01</td>\n",
       "    </tr>\n",
       "    <tr>\n",
       "      <th>66693</th>\n",
       "      <td>33346</td>\n",
       "      <td>321</td>\n",
       "      <td>Campo Grande (MS)</td>\n",
       "      <td>Brasilia (DF)</td>\n",
       "      <td>premium</td>\n",
       "      <td>691.99</td>\n",
       "      <td>0.72</td>\n",
       "      <td>277.70</td>\n",
       "      <td>Rainbow</td>\n",
       "      <td>2022-01-01</td>\n",
       "    </tr>\n",
       "    <tr>\n",
       "      <th>...</th>\n",
       "      <td>...</td>\n",
       "      <td>...</td>\n",
       "      <td>...</td>\n",
       "      <td>...</td>\n",
       "      <td>...</td>\n",
       "      <td>...</td>\n",
       "      <td>...</td>\n",
       "      <td>...</td>\n",
       "      <td>...</td>\n",
       "      <td>...</td>\n",
       "    </tr>\n",
       "    <tr>\n",
       "      <th>218073</th>\n",
       "      <td>109036</td>\n",
       "      <td>1080</td>\n",
       "      <td>Recife (PE)</td>\n",
       "      <td>Florianopolis (SC)</td>\n",
       "      <td>firstClass</td>\n",
       "      <td>1434.38</td>\n",
       "      <td>1.76</td>\n",
       "      <td>676.53</td>\n",
       "      <td>FlyingDrops</td>\n",
       "      <td>2022-12-31</td>\n",
       "    </tr>\n",
       "    <tr>\n",
       "      <th>91733</th>\n",
       "      <td>45866</td>\n",
       "      <td>447</td>\n",
       "      <td>Salvador (BH)</td>\n",
       "      <td>Brasilia (DF)</td>\n",
       "      <td>economic</td>\n",
       "      <td>609.83</td>\n",
       "      <td>1.76</td>\n",
       "      <td>676.56</td>\n",
       "      <td>Rainbow</td>\n",
       "      <td>2022-12-31</td>\n",
       "    </tr>\n",
       "    <tr>\n",
       "      <th>182685</th>\n",
       "      <td>91342</td>\n",
       "      <td>900</td>\n",
       "      <td>Salvador (BH)</td>\n",
       "      <td>Florianopolis (SC)</td>\n",
       "      <td>economic</td>\n",
       "      <td>943.15</td>\n",
       "      <td>2.44</td>\n",
       "      <td>937.77</td>\n",
       "      <td>CloudFy</td>\n",
       "      <td>2022-12-31</td>\n",
       "    </tr>\n",
       "    <tr>\n",
       "      <th>26517</th>\n",
       "      <td>13258</td>\n",
       "      <td>129</td>\n",
       "      <td>Campo Grande (MS)</td>\n",
       "      <td>Brasilia (DF)</td>\n",
       "      <td>economic</td>\n",
       "      <td>506.56</td>\n",
       "      <td>0.72</td>\n",
       "      <td>277.70</td>\n",
       "      <td>CloudFy</td>\n",
       "      <td>2022-12-31</td>\n",
       "    </tr>\n",
       "    <tr>\n",
       "      <th>101065</th>\n",
       "      <td>50532</td>\n",
       "      <td>491</td>\n",
       "      <td>Sao Paulo (SP)</td>\n",
       "      <td>Campo Grande (MS)</td>\n",
       "      <td>economic</td>\n",
       "      <td>335.16</td>\n",
       "      <td>0.44</td>\n",
       "      <td>168.22</td>\n",
       "      <td>CloudFy</td>\n",
       "      <td>2022-12-31</td>\n",
       "    </tr>\n",
       "  </tbody>\n",
       "</table>\n",
       "<p>41761 rows × 10 columns</p>\n",
       "</div>"
      ],
      "text/plain": [
       "        travelCode  userCode               from                  to  \\\n",
       "67401        33700       323      Salvador (BH)         Recife (PE)   \n",
       "256037      128018      1261         Natal (RN)  Florianopolis (SC)   \n",
       "153665       76832       746        Recife (PE)        Aracaju (SE)   \n",
       "171383       85691       843        Recife (PE)        Aracaju (SE)   \n",
       "66693        33346       321  Campo Grande (MS)       Brasilia (DF)   \n",
       "...            ...       ...                ...                 ...   \n",
       "218073      109036      1080        Recife (PE)  Florianopolis (SC)   \n",
       "91733        45866       447      Salvador (BH)       Brasilia (DF)   \n",
       "182685       91342       900      Salvador (BH)  Florianopolis (SC)   \n",
       "26517        13258       129  Campo Grande (MS)       Brasilia (DF)   \n",
       "101065       50532       491     Sao Paulo (SP)   Campo Grande (MS)   \n",
       "\n",
       "        flightType    price  time  distance       agency       date  \n",
       "67401   firstClass  1348.04  2.05    788.55  FlyingDrops 2022-01-01  \n",
       "256037    economic   884.40  1.84    709.37      Rainbow 2022-01-01  \n",
       "153665     premium   932.22  1.44    555.74      Rainbow 2022-01-01  \n",
       "171383  firstClass  1166.10  1.44    555.74      CloudFy 2022-01-01  \n",
       "66693      premium   691.99  0.72    277.70      Rainbow 2022-01-01  \n",
       "...            ...      ...   ...       ...          ...        ...  \n",
       "218073  firstClass  1434.38  1.76    676.53  FlyingDrops 2022-12-31  \n",
       "91733     economic   609.83  1.76    676.56      Rainbow 2022-12-31  \n",
       "182685    economic   943.15  2.44    937.77      CloudFy 2022-12-31  \n",
       "26517     economic   506.56  0.72    277.70      CloudFy 2022-12-31  \n",
       "101065    economic   335.16  0.44    168.22      CloudFy 2022-12-31  \n",
       "\n",
       "[41761 rows x 10 columns]"
      ]
     },
     "execution_count": 31,
     "metadata": {},
     "output_type": "execute_result"
    }
   ],
   "source": [
    "df_2022.sort_values(by = \"date\", ascending = True)"
   ]
  },
  {
   "cell_type": "code",
   "execution_count": 32,
   "id": "4a47e22f",
   "metadata": {},
   "outputs": [
    {
     "data": {
      "text/plain": [
       "41761"
      ]
     },
     "execution_count": 32,
     "metadata": {},
     "output_type": "execute_result"
    }
   ],
   "source": [
    "df_2022[\"date\"].count()"
   ]
  },
  {
   "cell_type": "markdown",
   "id": "464523cc",
   "metadata": {},
   "source": [
    "####  Year | 2023 = 6367 Flight"
   ]
  },
  {
   "cell_type": "code",
   "execution_count": 33,
   "id": "83e8508c",
   "metadata": {},
   "outputs": [],
   "source": [
    "year_2023 = (data[\"date\"] >= \"2023/1/1\") & (data[\"date\"] <= \"2023/12/31\")"
   ]
  },
  {
   "cell_type": "code",
   "execution_count": 34,
   "id": "8dd5a2c5",
   "metadata": {},
   "outputs": [],
   "source": [
    "df_2023 = data.loc[year_2023]"
   ]
  },
  {
   "cell_type": "code",
   "execution_count": 35,
   "id": "df585a04",
   "metadata": {},
   "outputs": [
    {
     "data": {
      "text/html": [
       "<div>\n",
       "<style scoped>\n",
       "    .dataframe tbody tr th:only-of-type {\n",
       "        vertical-align: middle;\n",
       "    }\n",
       "\n",
       "    .dataframe tbody tr th {\n",
       "        vertical-align: top;\n",
       "    }\n",
       "\n",
       "    .dataframe thead th {\n",
       "        text-align: right;\n",
       "    }\n",
       "</style>\n",
       "<table border=\"1\" class=\"dataframe\">\n",
       "  <thead>\n",
       "    <tr style=\"text-align: right;\">\n",
       "      <th></th>\n",
       "      <th>travelCode</th>\n",
       "      <th>userCode</th>\n",
       "      <th>from</th>\n",
       "      <th>to</th>\n",
       "      <th>flightType</th>\n",
       "      <th>price</th>\n",
       "      <th>time</th>\n",
       "      <th>distance</th>\n",
       "      <th>agency</th>\n",
       "      <th>date</th>\n",
       "    </tr>\n",
       "  </thead>\n",
       "  <tbody>\n",
       "    <tr>\n",
       "      <th>188693</th>\n",
       "      <td>94346</td>\n",
       "      <td>931</td>\n",
       "      <td>Aracaju (SE)</td>\n",
       "      <td>Florianopolis (SC)</td>\n",
       "      <td>premium</td>\n",
       "      <td>1132.81</td>\n",
       "      <td>2.10</td>\n",
       "      <td>808.85</td>\n",
       "      <td>Rainbow</td>\n",
       "      <td>2023-01-01</td>\n",
       "    </tr>\n",
       "    <tr>\n",
       "      <th>205425</th>\n",
       "      <td>102712</td>\n",
       "      <td>1019</td>\n",
       "      <td>Salvador (BH)</td>\n",
       "      <td>Florianopolis (SC)</td>\n",
       "      <td>economic</td>\n",
       "      <td>899.60</td>\n",
       "      <td>2.44</td>\n",
       "      <td>937.77</td>\n",
       "      <td>Rainbow</td>\n",
       "      <td>2023-01-01</td>\n",
       "    </tr>\n",
       "    <tr>\n",
       "      <th>18581</th>\n",
       "      <td>9290</td>\n",
       "      <td>93</td>\n",
       "      <td>Aracaju (SE)</td>\n",
       "      <td>Brasilia (DF)</td>\n",
       "      <td>premium</td>\n",
       "      <td>706.36</td>\n",
       "      <td>1.11</td>\n",
       "      <td>425.98</td>\n",
       "      <td>Rainbow</td>\n",
       "      <td>2023-01-01</td>\n",
       "    </tr>\n",
       "    <tr>\n",
       "      <th>233115</th>\n",
       "      <td>116557</td>\n",
       "      <td>1155</td>\n",
       "      <td>Brasilia (DF)</td>\n",
       "      <td>Florianopolis (SC)</td>\n",
       "      <td>premium</td>\n",
       "      <td>1189.32</td>\n",
       "      <td>1.66</td>\n",
       "      <td>637.56</td>\n",
       "      <td>CloudFy</td>\n",
       "      <td>2023-01-01</td>\n",
       "    </tr>\n",
       "    <tr>\n",
       "      <th>141357</th>\n",
       "      <td>70678</td>\n",
       "      <td>684</td>\n",
       "      <td>Aracaju (SE)</td>\n",
       "      <td>Natal (RN)</td>\n",
       "      <td>firstClass</td>\n",
       "      <td>549.96</td>\n",
       "      <td>0.46</td>\n",
       "      <td>176.33</td>\n",
       "      <td>Rainbow</td>\n",
       "      <td>2023-01-01</td>\n",
       "    </tr>\n",
       "    <tr>\n",
       "      <th>...</th>\n",
       "      <td>...</td>\n",
       "      <td>...</td>\n",
       "      <td>...</td>\n",
       "      <td>...</td>\n",
       "      <td>...</td>\n",
       "      <td>...</td>\n",
       "      <td>...</td>\n",
       "      <td>...</td>\n",
       "      <td>...</td>\n",
       "      <td>...</td>\n",
       "    </tr>\n",
       "    <tr>\n",
       "      <th>67163</th>\n",
       "      <td>33581</td>\n",
       "      <td>322</td>\n",
       "      <td>Recife (PE)</td>\n",
       "      <td>Aracaju (SE)</td>\n",
       "      <td>firstClass</td>\n",
       "      <td>1166.10</td>\n",
       "      <td>1.44</td>\n",
       "      <td>555.74</td>\n",
       "      <td>CloudFy</td>\n",
       "      <td>2023-07-21</td>\n",
       "    </tr>\n",
       "    <tr>\n",
       "      <th>206933</th>\n",
       "      <td>103466</td>\n",
       "      <td>1026</td>\n",
       "      <td>Campo Grande (MS)</td>\n",
       "      <td>Florianopolis (SC)</td>\n",
       "      <td>premium</td>\n",
       "      <td>1030.13</td>\n",
       "      <td>1.49</td>\n",
       "      <td>573.81</td>\n",
       "      <td>Rainbow</td>\n",
       "      <td>2023-07-21</td>\n",
       "    </tr>\n",
       "    <tr>\n",
       "      <th>187725</th>\n",
       "      <td>93862</td>\n",
       "      <td>925</td>\n",
       "      <td>Salvador (BH)</td>\n",
       "      <td>Florianopolis (SC)</td>\n",
       "      <td>firstClass</td>\n",
       "      <td>1616.44</td>\n",
       "      <td>2.44</td>\n",
       "      <td>937.77</td>\n",
       "      <td>FlyingDrops</td>\n",
       "      <td>2023-07-23</td>\n",
       "    </tr>\n",
       "    <tr>\n",
       "      <th>117319</th>\n",
       "      <td>58659</td>\n",
       "      <td>571</td>\n",
       "      <td>Recife (PE)</td>\n",
       "      <td>Campo Grande (MS)</td>\n",
       "      <td>premium</td>\n",
       "      <td>793.15</td>\n",
       "      <td>1.39</td>\n",
       "      <td>535.40</td>\n",
       "      <td>CloudFy</td>\n",
       "      <td>2023-07-24</td>\n",
       "    </tr>\n",
       "    <tr>\n",
       "      <th>80831</th>\n",
       "      <td>40415</td>\n",
       "      <td>389</td>\n",
       "      <td>Campo Grande (MS)</td>\n",
       "      <td>Brasilia (DF)</td>\n",
       "      <td>economic</td>\n",
       "      <td>517.82</td>\n",
       "      <td>0.72</td>\n",
       "      <td>277.70</td>\n",
       "      <td>Rainbow</td>\n",
       "      <td>2023-07-24</td>\n",
       "    </tr>\n",
       "  </tbody>\n",
       "</table>\n",
       "<p>6367 rows × 10 columns</p>\n",
       "</div>"
      ],
      "text/plain": [
       "        travelCode  userCode               from                  to  \\\n",
       "188693       94346       931       Aracaju (SE)  Florianopolis (SC)   \n",
       "205425      102712      1019      Salvador (BH)  Florianopolis (SC)   \n",
       "18581         9290        93       Aracaju (SE)       Brasilia (DF)   \n",
       "233115      116557      1155      Brasilia (DF)  Florianopolis (SC)   \n",
       "141357       70678       684       Aracaju (SE)          Natal (RN)   \n",
       "...            ...       ...                ...                 ...   \n",
       "67163        33581       322        Recife (PE)        Aracaju (SE)   \n",
       "206933      103466      1026  Campo Grande (MS)  Florianopolis (SC)   \n",
       "187725       93862       925      Salvador (BH)  Florianopolis (SC)   \n",
       "117319       58659       571        Recife (PE)   Campo Grande (MS)   \n",
       "80831        40415       389  Campo Grande (MS)       Brasilia (DF)   \n",
       "\n",
       "        flightType    price  time  distance       agency       date  \n",
       "188693     premium  1132.81  2.10    808.85      Rainbow 2023-01-01  \n",
       "205425    economic   899.60  2.44    937.77      Rainbow 2023-01-01  \n",
       "18581      premium   706.36  1.11    425.98      Rainbow 2023-01-01  \n",
       "233115     premium  1189.32  1.66    637.56      CloudFy 2023-01-01  \n",
       "141357  firstClass   549.96  0.46    176.33      Rainbow 2023-01-01  \n",
       "...            ...      ...   ...       ...          ...        ...  \n",
       "67163   firstClass  1166.10  1.44    555.74      CloudFy 2023-07-21  \n",
       "206933     premium  1030.13  1.49    573.81      Rainbow 2023-07-21  \n",
       "187725  firstClass  1616.44  2.44    937.77  FlyingDrops 2023-07-23  \n",
       "117319     premium   793.15  1.39    535.40      CloudFy 2023-07-24  \n",
       "80831     economic   517.82  0.72    277.70      Rainbow 2023-07-24  \n",
       "\n",
       "[6367 rows x 10 columns]"
      ]
     },
     "execution_count": 35,
     "metadata": {},
     "output_type": "execute_result"
    }
   ],
   "source": [
    "df_2023.sort_values(by = \"date\", ascending = True)"
   ]
  },
  {
   "cell_type": "code",
   "execution_count": 36,
   "id": "22b769c6",
   "metadata": {},
   "outputs": [
    {
     "data": {
      "text/plain": [
       "6367"
      ]
     },
     "execution_count": 36,
     "metadata": {},
     "output_type": "execute_result"
    }
   ],
   "source": [
    "df_2023[\"date\"].count()"
   ]
  },
  {
   "cell_type": "code",
   "execution_count": 37,
   "id": "99dcdea5",
   "metadata": {},
   "outputs": [],
   "source": [
    "years = [2019, 2020, 2021, 2022, 2023]\n",
    "num_of_flights = [35826, 112571, 75363, 41761, 6367]"
   ]
  },
  {
   "cell_type": "code",
   "execution_count": 47,
   "id": "1eb6916e",
   "metadata": {},
   "outputs": [
    {
     "data": {
      "image/png": "[encoded data removed]",
      "text/plain": [
       "<Figure size 576x396 with 1 Axes>"
      ]
     },
     "metadata": {},
     "output_type": "display_data"
    }
   ],
   "source": [
    "plt.style.use('seaborn')\n",
    "plt.bar(years, num_of_flights, color = \"#003060\", width = .3)\n",
    "plt.show()"
   ]
  },
  {
   "cell_type": "markdown",
   "id": "70c60481",
   "metadata": {},
   "source": [
    "### Q / Which Agency Book The Most Flights ?\n",
    "#### The Most Flights Booking By | Rainbow Agency"
   ]
  },
  {
   "cell_type": "code",
   "execution_count": 48,
   "id": "7f8cdcab",
   "metadata": {},
   "outputs": [
    {
     "data": {
      "text/plain": [
       "array(['FlyingDrops', 'CloudFy', 'Rainbow'], dtype=object)"
      ]
     },
     "execution_count": 48,
     "metadata": {},
     "output_type": "execute_result"
    }
   ],
   "source": [
    "data[\"agency\"].unique()"
   ]
  },
  {
   "cell_type": "code",
   "execution_count": 50,
   "id": "f9389f56",
   "metadata": {},
   "outputs": [
    {
     "data": {
      "text/plain": [
       "Rainbow        116752\n",
       "CloudFy        116378\n",
       "FlyingDrops     38758\n",
       "Name: agency, dtype: int64"
      ]
     },
     "execution_count": 50,
     "metadata": {},
     "output_type": "execute_result"
    }
   ],
   "source": [
    "data[\"agency\"].value_counts().sort(ascending = False)"
   ]
  },
  {
   "cell_type": "code",
   "execution_count": 51,
   "id": "669a671a",
   "metadata": {},
   "outputs": [],
   "source": [
    "agencies = ['FlyingDrops', 'CloudFy', 'Rainbow']\n",
    "num_of_booking_flights = [38758, 116378, 116752]"
   ]
  },
  {
   "cell_type": "code",
   "execution_count": 54,
   "id": "97622376",
   "metadata": {},
   "outputs": [
    {
     "data": {
      "text/plain": [
       "116752"
      ]
     },
     "execution_count": 54,
     "metadata": {},
     "output_type": "execute_result"
    }
   ],
   "source": [
    "np.max(num_of_booking_flights)"
   ]
  },
  {
   "cell_type": "code",
   "execution_count": 64,
   "id": "d6316a3a",
   "metadata": {},
   "outputs": [
    {
     "data": {
      "image/png": "[encoded data removed]",
      "text/plain": [
       "<Figure size 576x396 with 1 Axes>"
      ]
     },
     "metadata": {},
     "output_type": "display_data"
    }
   ],
   "source": [
    "plt.style.use('seaborn')\n",
    "colors = [\"#D3F4FB\", \"#53DFD1\", \"#59D7EE\"]\n",
    "explode = [0, 0, 0.05]\n",
    "plt.pie(num_of_booking_flights, data = data, colors = colors, labels = agencies, explode = explode, autopct = \"%1.1f%%\")\n",
    "plt.legend()\n",
    "plt.show()"
   ]
  },
  {
   "cell_type": "markdown",
   "id": "2c6541f9",
   "metadata": {},
   "source": [
    "### Q / Most Wanted Place To Travel !\n",
    "#### The Most Travelled Place : Florianopolis (SC) | 57317"
   ]
  },
  {
   "cell_type": "code",
   "execution_count": 72,
   "id": "69eca53f",
   "metadata": {},
   "outputs": [
    {
     "data": {
      "text/plain": [
       "Florianopolis (SC)     57317\n",
       "Aracaju (SE)           37224\n",
       "Campo Grande (MS)      34748\n",
       "Brasilia (DF)          30779\n",
       "Recife (PE)            30480\n",
       "Natal (RN)             23796\n",
       "Sao Paulo (SP)         23625\n",
       "Salvador (BH)          17104\n",
       "Rio de Janeiro (RJ)    16815\n",
       "Name: to, dtype: int64"
      ]
     },
     "execution_count": 72,
     "metadata": {},
     "output_type": "execute_result"
    }
   ],
   "source": [
    "data[\"to\"].value_counts().sort_values(ascending = False)"
   ]
  },
  {
   "cell_type": "code",
   "execution_count": 73,
   "id": "f1b9a811",
   "metadata": {},
   "outputs": [
    {
     "data": {
      "text/plain": [
       "array(['Florianopolis (SC)', 'Recife (PE)', 'Brasilia (DF)',\n",
       "       'Salvador (BH)', 'Aracaju (SE)', 'Campo Grande (MS)',\n",
       "       'Sao Paulo (SP)', 'Natal (RN)', 'Rio de Janeiro (RJ)'],\n",
       "      dtype=object)"
      ]
     },
     "execution_count": 73,
     "metadata": {},
     "output_type": "execute_result"
    }
   ],
   "source": [
    "data[\"to\"].unique()"
   ]
  },
  {
   "cell_type": "code",
   "execution_count": 78,
   "id": "6b08af7e",
   "metadata": {},
   "outputs": [],
   "source": [
    "travel_to = ['Florianopolis (SC)', 'Recife (PE)', 'Brasilia (DF)',\n",
    "       'Salvador (BH)', 'Aracaju (SE)', 'Campo Grande (MS)',\n",
    "       'Sao Paulo (SP)', 'Natal (RN)', 'Rio de Janeiro (RJ)']\n",
    "num_of_travel_to = [57317, 30480, 30779, 17104, 37224, 34748, 23625, 23796, 16815]"
   ]
  },
  {
   "cell_type": "code",
   "execution_count": 81,
   "id": "51d145a4",
   "metadata": {},
   "outputs": [
    {
     "data": {
      "text/plain": [
       "57317"
      ]
     },
     "execution_count": 81,
     "metadata": {},
     "output_type": "execute_result"
    }
   ],
   "source": [
    "np.max(num_of_tarvel_to)"
   ]
  },
  {
   "cell_type": "code",
   "execution_count": 82,
   "id": "e317a484",
   "metadata": {},
   "outputs": [],
   "source": [
    "travels_df = pd.DataFrame({\"place\": travel_to, \"num\" :num_of_travel_to})"
   ]
  },
  {
   "cell_type": "code",
   "execution_count": 83,
   "id": "81ace7e4",
   "metadata": {},
   "outputs": [
    {
     "data": {
      "text/html": [
       "<div>\n",
       "<style scoped>\n",
       "    .dataframe tbody tr th:only-of-type {\n",
       "        vertical-align: middle;\n",
       "    }\n",
       "\n",
       "    .dataframe tbody tr th {\n",
       "        vertical-align: top;\n",
       "    }\n",
       "\n",
       "    .dataframe thead th {\n",
       "        text-align: right;\n",
       "    }\n",
       "</style>\n",
       "<table border=\"1\" class=\"dataframe\">\n",
       "  <thead>\n",
       "    <tr style=\"text-align: right;\">\n",
       "      <th></th>\n",
       "      <th>place</th>\n",
       "      <th>num</th>\n",
       "    </tr>\n",
       "  </thead>\n",
       "  <tbody>\n",
       "    <tr>\n",
       "      <th>0</th>\n",
       "      <td>Florianopolis (SC)</td>\n",
       "      <td>57317</td>\n",
       "    </tr>\n",
       "    <tr>\n",
       "      <th>1</th>\n",
       "      <td>Recife (PE)</td>\n",
       "      <td>30480</td>\n",
       "    </tr>\n",
       "    <tr>\n",
       "      <th>2</th>\n",
       "      <td>Brasilia (DF)</td>\n",
       "      <td>30779</td>\n",
       "    </tr>\n",
       "    <tr>\n",
       "      <th>3</th>\n",
       "      <td>Salvador (BH)</td>\n",
       "      <td>17104</td>\n",
       "    </tr>\n",
       "    <tr>\n",
       "      <th>4</th>\n",
       "      <td>Aracaju (SE)</td>\n",
       "      <td>37224</td>\n",
       "    </tr>\n",
       "    <tr>\n",
       "      <th>5</th>\n",
       "      <td>Campo Grande (MS)</td>\n",
       "      <td>34748</td>\n",
       "    </tr>\n",
       "    <tr>\n",
       "      <th>6</th>\n",
       "      <td>Sao Paulo (SP)</td>\n",
       "      <td>23625</td>\n",
       "    </tr>\n",
       "    <tr>\n",
       "      <th>7</th>\n",
       "      <td>Natal (RN)</td>\n",
       "      <td>23796</td>\n",
       "    </tr>\n",
       "    <tr>\n",
       "      <th>8</th>\n",
       "      <td>Rio de Janeiro (RJ)</td>\n",
       "      <td>16815</td>\n",
       "    </tr>\n",
       "  </tbody>\n",
       "</table>\n",
       "</div>"
      ],
      "text/plain": [
       "                 place    num\n",
       "0   Florianopolis (SC)  57317\n",
       "1          Recife (PE)  30480\n",
       "2        Brasilia (DF)  30779\n",
       "3        Salvador (BH)  17104\n",
       "4         Aracaju (SE)  37224\n",
       "5    Campo Grande (MS)  34748\n",
       "6       Sao Paulo (SP)  23625\n",
       "7           Natal (RN)  23796\n",
       "8  Rio de Janeiro (RJ)  16815"
      ]
     },
     "execution_count": 83,
     "metadata": {},
     "output_type": "execute_result"
    }
   ],
   "source": [
    "travels_df"
   ]
  },
  {
   "cell_type": "code",
   "execution_count": 84,
   "id": "ddeb07aa",
   "metadata": {},
   "outputs": [],
   "source": [
    "travels_to = pd.DataFrame(columns = [travel_to, num_of_travel_to])"
   ]
  },
  {
   "cell_type": "code",
   "execution_count": 85,
   "id": "1197346f",
   "metadata": {
    "scrolled": true
   },
   "outputs": [
    {
     "data": {
      "text/html": [
       "<div>\n",
       "<style scoped>\n",
       "    .dataframe tbody tr th:only-of-type {\n",
       "        vertical-align: middle;\n",
       "    }\n",
       "\n",
       "    .dataframe tbody tr th {\n",
       "        vertical-align: top;\n",
       "    }\n",
       "\n",
       "    .dataframe thead tr th {\n",
       "        text-align: left;\n",
       "    }\n",
       "</style>\n",
       "<table border=\"1\" class=\"dataframe\">\n",
       "  <thead>\n",
       "    <tr>\n",
       "      <th></th>\n",
       "      <th>Florianopolis (SC)</th>\n",
       "      <th>Recife (PE)</th>\n",
       "      <th>Brasilia (DF)</th>\n",
       "      <th>Salvador (BH)</th>\n",
       "      <th>Aracaju (SE)</th>\n",
       "      <th>Campo Grande (MS)</th>\n",
       "      <th>Sao Paulo (SP)</th>\n",
       "      <th>Natal (RN)</th>\n",
       "      <th>Rio de Janeiro (RJ)</th>\n",
       "    </tr>\n",
       "    <tr>\n",
       "      <th></th>\n",
       "      <th>57317</th>\n",
       "      <th>30480</th>\n",
       "      <th>30779</th>\n",
       "      <th>17104</th>\n",
       "      <th>37224</th>\n",
       "      <th>34748</th>\n",
       "      <th>23625</th>\n",
       "      <th>23796</th>\n",
       "      <th>16815</th>\n",
       "    </tr>\n",
       "  </thead>\n",
       "  <tbody>\n",
       "  </tbody>\n",
       "</table>\n",
       "</div>"
      ],
      "text/plain": [
       "Empty DataFrame\n",
       "Columns: [(Florianopolis (SC), 57317), (Recife (PE), 30480), (Brasilia (DF), 30779), (Salvador (BH), 17104), (Aracaju (SE), 37224), (Campo Grande (MS), 34748), (Sao Paulo (SP), 23625), (Natal (RN), 23796), (Rio de Janeiro (RJ), 16815)]\n",
       "Index: []"
      ]
     },
     "execution_count": 85,
     "metadata": {},
     "output_type": "execute_result"
    }
   ],
   "source": [
    "travels_to"
   ]
  },
  {
   "cell_type": "code",
   "execution_count": 89,
   "id": "1ecd09aa",
   "metadata": {},
   "outputs": [
    {
     "data": {
      "image/png": "[encoded data removed]",
      "text/plain": [
       "<Figure size 1120x560 with 1 Axes>"
      ]
     },
     "metadata": {},
     "output_type": "display_data"
    }
   ],
   "source": [
    "figure(figsize = (14, 7), dpi = 80)\n",
    "ax = sns.lineplot(data = travels_df, x = \"place\", y = \"num\", color = \"#000033\")\n",
    "ax.set(xlabel = None)\n",
    "ax.set(ylabel = None)\n",
    "plt.show()"
   ]
  },
  {
   "cell_type": "markdown",
   "id": "081fe335",
   "metadata": {},
   "source": [
    "### Q / Is The Largest Number Of Flights In The Economic Class ?\n",
    "#### The First Class Has The Largest Number Of Flights | 116418\n",
    "#### The Economic Class Has The Smallest Number Of Flights | 77466"
   ]
  },
  {
   "cell_type": "code",
   "execution_count": 90,
   "id": "b882af76",
   "metadata": {},
   "outputs": [
    {
     "data": {
      "text/plain": [
       "firstClass    116418\n",
       "premium        78004\n",
       "economic       77466\n",
       "Name: flightType, dtype: int64"
      ]
     },
     "execution_count": 90,
     "metadata": {},
     "output_type": "execute_result"
    }
   ],
   "source": [
    "data[\"flightType\"].value_counts()"
   ]
  },
  {
   "cell_type": "code",
   "execution_count": 91,
   "id": "0a5b4dc7",
   "metadata": {},
   "outputs": [],
   "source": [
    "flight_classes = [\"First Class\", \"Premium\", \"Economic\"]\n",
    "num_of_flight_classes = [116418, 78004, 77466]"
   ]
  },
  {
   "cell_type": "code",
   "execution_count": 92,
   "id": "fe2929ae",
   "metadata": {},
   "outputs": [
    {
     "data": {
      "text/plain": [
       "116418"
      ]
     },
     "execution_count": 92,
     "metadata": {},
     "output_type": "execute_result"
    }
   ],
   "source": [
    "np.max(num_of_flight_classes)"
   ]
  },
  {
   "cell_type": "code",
   "execution_count": 93,
   "id": "363a705f",
   "metadata": {},
   "outputs": [],
   "source": [
    "classes_df = pd.DataFrame({\"Class\" : flight_classes, \"Number\" : num_of_flight_classes})"
   ]
  },
  {
   "cell_type": "code",
   "execution_count": 94,
   "id": "1b26451a",
   "metadata": {},
   "outputs": [
    {
     "data": {
      "text/html": [
       "<div>\n",
       "<style scoped>\n",
       "    .dataframe tbody tr th:only-of-type {\n",
       "        vertical-align: middle;\n",
       "    }\n",
       "\n",
       "    .dataframe tbody tr th {\n",
       "        vertical-align: top;\n",
       "    }\n",
       "\n",
       "    .dataframe thead th {\n",
       "        text-align: right;\n",
       "    }\n",
       "</style>\n",
       "<table border=\"1\" class=\"dataframe\">\n",
       "  <thead>\n",
       "    <tr style=\"text-align: right;\">\n",
       "      <th></th>\n",
       "      <th>Class</th>\n",
       "      <th>Number</th>\n",
       "    </tr>\n",
       "  </thead>\n",
       "  <tbody>\n",
       "    <tr>\n",
       "      <th>0</th>\n",
       "      <td>First Class</td>\n",
       "      <td>116418</td>\n",
       "    </tr>\n",
       "    <tr>\n",
       "      <th>1</th>\n",
       "      <td>Premium</td>\n",
       "      <td>78004</td>\n",
       "    </tr>\n",
       "    <tr>\n",
       "      <th>2</th>\n",
       "      <td>Economic</td>\n",
       "      <td>77466</td>\n",
       "    </tr>\n",
       "  </tbody>\n",
       "</table>\n",
       "</div>"
      ],
      "text/plain": [
       "         Class  Number\n",
       "0  First Class  116418\n",
       "1      Premium   78004\n",
       "2     Economic   77466"
      ]
     },
     "execution_count": 94,
     "metadata": {},
     "output_type": "execute_result"
    }
   ],
   "source": [
    "classes_df"
   ]
  },
  {
   "cell_type": "code",
   "execution_count": 101,
   "id": "86f465ff",
   "metadata": {
    "scrolled": true
   },
   "outputs": [
    {
     "data": {
      "image/png": "[encoded data removed]",
      "text/plain": [
       "<Figure size 576x396 with 1 Axes>"
      ]
     },
     "metadata": {},
     "output_type": "display_data"
    }
   ],
   "source": [
    "plt.style.use('seaborn')\n",
    "plt.bar(flight_classes, num_of_flight_classes, color = \"#003060\", width = .2)\n",
    "plt.show()"
   ]
  },
  {
   "cell_type": "markdown",
   "id": "e8dbe7ac",
   "metadata": {},
   "source": [
    "### Q / Total Booking Costs Per Each Year "
   ]
  },
  {
   "cell_type": "markdown",
   "id": "41cfbee3",
   "metadata": {},
   "source": [
    "#### - Year 2019 | 34124281.03"
   ]
  },
  {
   "cell_type": "code",
   "execution_count": 116,
   "id": "4c403d73",
   "metadata": {
    "scrolled": true
   },
   "outputs": [],
   "source": [
    "y19 = df_2019[\"price\"].sum()"
   ]
  },
  {
   "cell_type": "markdown",
   "id": "bc2f4bf4",
   "metadata": {},
   "source": [
    "#### - Year 2020 | 107699984.05"
   ]
  },
  {
   "cell_type": "code",
   "execution_count": 117,
   "id": "5bb1d52e",
   "metadata": {
    "scrolled": true
   },
   "outputs": [],
   "source": [
    "y20 = df_2020[\"price\"].sum()"
   ]
  },
  {
   "cell_type": "markdown",
   "id": "a8824610",
   "metadata": {},
   "source": [
    "#### - Year 2021 | 72137653.69"
   ]
  },
  {
   "cell_type": "code",
   "execution_count": 118,
   "id": "bbb53089",
   "metadata": {},
   "outputs": [],
   "source": [
    "y21 = df_2021[\"price\"].sum()"
   ]
  },
  {
   "cell_type": "markdown",
   "id": "c137daee",
   "metadata": {},
   "source": [
    "#### - Year 2022 | 40219584.97"
   ]
  },
  {
   "cell_type": "code",
   "execution_count": 119,
   "id": "41bf6e26",
   "metadata": {},
   "outputs": [],
   "source": [
    "y22 = df_2022[\"price\"].sum()"
   ]
  },
  {
   "cell_type": "markdown",
   "id": "11c3cb7f",
   "metadata": {},
   "source": [
    "#### - Year 2023 | 6117278.4"
   ]
  },
  {
   "cell_type": "code",
   "execution_count": 120,
   "id": "295e1607",
   "metadata": {},
   "outputs": [],
   "source": [
    "y23 = df_2023[\"price\"].sum()"
   ]
  },
  {
   "cell_type": "code",
   "execution_count": 128,
   "id": "acc51f67",
   "metadata": {},
   "outputs": [],
   "source": [
    "years = [2019, 2020, 2021, 2022, 2023]\n",
    "booking_costs = [y19, y20, y21, y22, y23]"
   ]
  },
  {
   "cell_type": "code",
   "execution_count": 138,
   "id": "a6151993",
   "metadata": {},
   "outputs": [
    {
     "data": {
      "image/png": "[encoded data removed]",
      "text/plain": [
       "<Figure size 576x396 with 1 Axes>"
      ]
     },
     "metadata": {},
     "output_type": "display_data"
    }
   ],
   "source": [
    "plt.style.use('seaborn')\n",
    "plt.bar(years, booking_costs, color = \"#003060\", width = .3)\n",
    "ax = plt.gca()\n",
    "ax.get_yaxis().set_visible(False)\n",
    "plt.show()"
   ]
  },
  {
   "cell_type": "markdown",
   "id": "c3887086",
   "metadata": {},
   "source": [
    "## THANK YOU"
   ]
  },
  {
   "cell_type": "code",
   "execution_count": null,
   "id": "4e3fa04c",
   "metadata": {},
   "outputs": [],
   "source": []
  }
 ],
 "metadata": {
  "kernelspec": {
   "display_name": "Python 3 (ipykernel)",
   "language": "python",
   "name": "python3"
  },
  "language_info": {
   "codemirror_mode": {
    "name": "ipython",
    "version": 3
   },
   "file_extension": ".py",
   "mimetype": "text/x-python",
   "name": "python",
   "nbconvert_exporter": "python",
   "pygments_lexer": "ipython3",
   "version": "3.9.7"
  }
 },
 "nbformat": 4,
 "nbformat_minor": 5
}
